{
  "nbformat": 4,
  "nbformat_minor": 0,
  "metadata": {
    "colab": {
      "name": "modul-python.ipynb",
      "provenance": [],
      "collapsed_sections": [],
      "authorship_tag": "ABX9TyPwiRziOA2VT8ERXAQDCDhi",
      "include_colab_link": true
    },
    "kernelspec": {
      "name": "python3",
      "display_name": "Python 3"
    },
    "language_info": {
      "name": "python"
    }
  },
  "cells": [
    {
      "cell_type": "markdown",
      "metadata": {
        "id": "view-in-github",
        "colab_type": "text"
      },
      "source": [
        "<a href=\"https://colab.research.google.com/github/kcv-if/LabBasedEducation_KCV2021/blob/main/modul_python.ipynb\" target=\"_parent\"><img src=\"https://colab.research.google.com/assets/colab-badge.svg\" alt=\"Open In Colab\"/></a>"
      ]
    },
    {
      "cell_type": "markdown",
      "metadata": {
        "id": "oeokuChbzv9V"
      },
      "source": [
        "# Mengapa menggunakan Python untuk Machine Learning?\n",
        "\n",
        "\n",
        "*   Sederhana dan konsisten\n",
        "*   Memiliki library dan framework yang luas\n",
        "*   Platform independence\n",
        "*   Popularitas yang tinggi dan komunitas yang luas\n",
        "\n",
        "\n",
        "\n"
      ]
    },
    {
      "cell_type": "markdown",
      "metadata": {
        "id": "6hoFm-gdMub3"
      },
      "source": [
        "# Dasar-dasar Python\n",
        "Dalam modul ini akan dibahas dasar-dasar Python yang akan digunakan untuk pembelajaran di LBE KCV 2021."
      ]
    },
    {
      "cell_type": "markdown",
      "metadata": {
        "id": "VSPmpcP50idw"
      },
      "source": [
        "## Print\n",
        "Untuk mencetak suatu nilai di Python, gunakan fungsi `print()`. String harus diselubungi dengan karakter petik (') atau petik dua (\")."
      ]
    },
    {
      "cell_type": "code",
      "metadata": {
        "colab": {
          "base_uri": "https://localhost:8080/"
        },
        "id": "FfsVf1A50vh-",
        "outputId": "5d1f3307-f392-40b8-cb10-402a6f34546f"
      },
      "source": [
        "print('Halo Dunia')"
      ],
      "execution_count": null,
      "outputs": [
        {
          "output_type": "stream",
          "text": [
            "Halo Dunia\n"
          ],
          "name": "stdout"
        }
      ]
    },
    {
      "cell_type": "code",
      "metadata": {
        "colab": {
          "base_uri": "https://localhost:8080/"
        },
        "id": "VqIREUFl1UaN",
        "outputId": "919dccc3-ae5c-463c-b0fa-f5f0dc4bf4f1"
      },
      "source": [
        "print(\"Halo Python\")"
      ],
      "execution_count": null,
      "outputs": [
        {
          "output_type": "stream",
          "text": [
            "Halo Python\n"
          ],
          "name": "stdout"
        }
      ]
    },
    {
      "cell_type": "markdown",
      "metadata": {
        "id": "lcEYtwPv01NR"
      },
      "source": [
        "## Comment\n",
        "Comment sangat berguna untuk memberikan penjelasan suatu blok kode. Untuk membuat comment, berikan karakter pagar (#) di depan comment."
      ]
    },
    {
      "cell_type": "code",
      "metadata": {
        "id": "_BxxMfUc1s0G"
      },
      "source": [
        "# ini adalah comment dan tidak akan dieksekusi saat program berjalan"
      ],
      "execution_count": null,
      "outputs": []
    },
    {
      "cell_type": "markdown",
      "metadata": {
        "id": "DB5bwMS-11ne"
      },
      "source": [
        "## Integer\n",
        "Python memiliki tipe data integer atau bilangan bulat yang dapat dilakukan operasi matematika, seperti penambahan dan pengurangan."
      ]
    },
    {
      "cell_type": "code",
      "metadata": {
        "colab": {
          "base_uri": "https://localhost:8080/"
        },
        "id": "yDkkXDGv2Lnj",
        "outputId": "16530714-0c09-4a96-9858-6921d0d74e0f"
      },
      "source": [
        "# tidak perlu dibungkus dengan tanda petik\n",
        "print(1)\n",
        "# penambahan\n",
        "print(1 + 2)\n",
        "# pengurangan\n",
        "print(3 - 2)\n",
        "# perkalian\n",
        "print(4 * 5)\n",
        "# pembagian\n",
        "print(6 / 2)\n",
        "# modulo\n",
        "print(1 % 2)"
      ],
      "execution_count": null,
      "outputs": [
        {
          "output_type": "stream",
          "text": [
            "1\n",
            "3\n",
            "1\n",
            "20\n",
            "3.0\n",
            "1\n"
          ],
          "name": "stdout"
        }
      ]
    },
    {
      "cell_type": "markdown",
      "metadata": {
        "id": "HpI4wug6APkY"
      },
      "source": [
        "## Variabel\n",
        "Variabel digunakan untuk menyimpan sebuah nilai. Untuk mendeklarasikan variabel, gunakan format `nama_variabel=nilai_variabel`. Penamaan variabel memiliki beberapa peraturan, di antaranya:\n",
        "*   dimulai dengan huruf atau karakter garis bawah (_)\n",
        "*   tidak dapat dimulai dengan angka\n",
        "*   nama hanya dapat berisi karakter alfanumerik (A-z, 0-9, dan _)\n",
        "*   bersifat case sensitive (`Aku` dan `aku` adalah 2 variabel yang berbeda)\n",
        "\n",
        "\n",
        "\n"
      ]
    },
    {
      "cell_type": "code",
      "metadata": {
        "colab": {
          "base_uri": "https://localhost:8080/"
        },
        "id": "9nTBA3yCAqs0",
        "outputId": "6287e753-8a31-42c9-fe21-19558f11fa4c"
      },
      "source": [
        "# deklarasi variabel\n",
        "lab = 'KCV'\n",
        "print(lab)"
      ],
      "execution_count": null,
      "outputs": [
        {
          "output_type": "stream",
          "text": [
            "KCV\n"
          ],
          "name": "stdout"
        }
      ]
    },
    {
      "cell_type": "code",
      "metadata": {
        "colab": {
          "base_uri": "https://localhost:8080/"
        },
        "id": "tcmVPieECJJm",
        "outputId": "9e9e5b33-4c9e-4074-aaf4-c9b13f3e5741"
      },
      "source": [
        "# memperbarui nilai variabel\n",
        "x = 1\n",
        "print(x)\n",
        "x = 2\n",
        "print(x)\n",
        "\n",
        "# melakukan operasi matematika\n",
        "x = x + 1\n",
        "print(x)\n",
        "# melakukan operasi matematika (singkat)\n",
        "x += 1\n",
        "print(x)"
      ],
      "execution_count": null,
      "outputs": [
        {
          "output_type": "stream",
          "text": [
            "1\n",
            "2\n",
            "3\n",
            "4\n"
          ],
          "name": "stdout"
        }
      ]
    },
    {
      "cell_type": "markdown",
      "metadata": {
        "id": "SKASSdQUCwvY"
      },
      "source": [
        "## String Concatenation\n",
        "Operator `+` digunakan untuk menggabungkan dua atau lebih string menjadi satu string."
      ]
    },
    {
      "cell_type": "code",
      "metadata": {
        "colab": {
          "base_uri": "https://localhost:8080/"
        },
        "id": "Wyjxp0fSDBIs",
        "outputId": "cfcc15f1-546d-44a5-83b7-96044cc7ccdf"
      },
      "source": [
        "print('Halo'+' '+'Dunia')"
      ],
      "execution_count": null,
      "outputs": [
        {
          "output_type": "stream",
          "text": [
            "Halo Dunia\n"
          ],
          "name": "stdout"
        }
      ]
    },
    {
      "cell_type": "code",
      "metadata": {
        "colab": {
          "base_uri": "https://localhost:8080/"
        },
        "id": "XUR3-uzQDHLb",
        "outputId": "e6344b2f-6d73-41ed-cfa0-764c95f2b7df"
      },
      "source": [
        "nama_depan = 'Budi'\n",
        "nama_belakang = 'Idub'\n",
        "nama_lengkap = nama_depan + ' ' + nama_belakang\n",
        "print(nama_lengkap)"
      ],
      "execution_count": null,
      "outputs": [
        {
          "output_type": "stream",
          "text": [
            "Budi Idub\n"
          ],
          "name": "stdout"
        }
      ]
    },
    {
      "cell_type": "code",
      "metadata": {
        "colab": {
          "base_uri": "https://localhost:8080/"
        },
        "id": "e0BoLAkVD1a0",
        "outputId": "e658ae8a-009d-49c9-de5f-dbe07c5e48b5"
      },
      "source": [
        "print('5' + '7')"
      ],
      "execution_count": null,
      "outputs": [
        {
          "output_type": "stream",
          "text": [
            "57\n"
          ],
          "name": "stdout"
        }
      ]
    },
    {
      "cell_type": "markdown",
      "metadata": {
        "id": "4ej7C1sgDjVr"
      },
      "source": [
        "## Konversi Tipe Data\n",
        "Untuk menggabungkan nilai dengan tipe data yang berbeda (string dan integer) harus dilakukan konversi tipe data terlebih dahulu. Konversi dari integer ke string menggunakan fungsi `str()` dan konversi dari string ke integer menggunakan `int()`."
      ]
    },
    {
      "cell_type": "code",
      "metadata": {
        "colab": {
          "base_uri": "https://localhost:8080/",
          "height": 207
        },
        "id": "MADcxzM0EKiE",
        "outputId": "806ea45d-850f-4c6a-c712-64c2236d0809"
      },
      "source": [
        "# belum dikonversi\n",
        "tahun = 2021\n",
        "print('Tahun: ' + tahun)"
      ],
      "execution_count": null,
      "outputs": [
        {
          "output_type": "error",
          "ename": "TypeError",
          "evalue": "ignored",
          "traceback": [
            "\u001b[0;31m---------------------------------------------------------------------------\u001b[0m",
            "\u001b[0;31mTypeError\u001b[0m                                 Traceback (most recent call last)",
            "\u001b[0;32m<ipython-input-57-1197a310156f>\u001b[0m in \u001b[0;36m<module>\u001b[0;34m()\u001b[0m\n\u001b[1;32m      1\u001b[0m \u001b[0;31m# belum dikonversi\u001b[0m\u001b[0;34m\u001b[0m\u001b[0;34m\u001b[0m\u001b[0;34m\u001b[0m\u001b[0m\n\u001b[1;32m      2\u001b[0m \u001b[0mtahun\u001b[0m \u001b[0;34m=\u001b[0m \u001b[0;36m2021\u001b[0m\u001b[0;34m\u001b[0m\u001b[0;34m\u001b[0m\u001b[0m\n\u001b[0;32m----> 3\u001b[0;31m \u001b[0mprint\u001b[0m\u001b[0;34m(\u001b[0m\u001b[0;34m'Tahun: '\u001b[0m \u001b[0;34m+\u001b[0m \u001b[0mtahun\u001b[0m\u001b[0;34m)\u001b[0m\u001b[0;34m\u001b[0m\u001b[0;34m\u001b[0m\u001b[0m\n\u001b[0m",
            "\u001b[0;31mTypeError\u001b[0m: can only concatenate str (not \"int\") to str"
          ]
        }
      ]
    },
    {
      "cell_type": "code",
      "metadata": {
        "colab": {
          "base_uri": "https://localhost:8080/"
        },
        "id": "cIzxVQyjETEI",
        "outputId": "15a6531d-eafe-4987-87fc-38580b77e3b3"
      },
      "source": [
        "# sudah dikonversi\n",
        "tahun = 2021\n",
        "print('Tahun: ' + str(tahun))"
      ],
      "execution_count": null,
      "outputs": [
        {
          "output_type": "stream",
          "text": [
            "Tahun: 2021\n"
          ],
          "name": "stdout"
        }
      ]
    },
    {
      "cell_type": "code",
      "metadata": {
        "colab": {
          "base_uri": "https://localhost:8080/",
          "height": 225
        },
        "id": "FQ64ztLlEt_N",
        "outputId": "4f4e71b5-52de-454f-dfbd-96d50e293cbb"
      },
      "source": [
        "# belum dikonversi\n",
        "umur = '21'\n",
        "umur = umur + 1\n",
        "print(umur)"
      ],
      "execution_count": null,
      "outputs": [
        {
          "output_type": "error",
          "ename": "TypeError",
          "evalue": "ignored",
          "traceback": [
            "\u001b[0;31m---------------------------------------------------------------------------\u001b[0m",
            "\u001b[0;31mTypeError\u001b[0m                                 Traceback (most recent call last)",
            "\u001b[0;32m<ipython-input-18-6fb19157b754>\u001b[0m in \u001b[0;36m<module>\u001b[0;34m()\u001b[0m\n\u001b[1;32m      1\u001b[0m \u001b[0;31m# belum dikonversi\u001b[0m\u001b[0;34m\u001b[0m\u001b[0;34m\u001b[0m\u001b[0;34m\u001b[0m\u001b[0m\n\u001b[1;32m      2\u001b[0m \u001b[0mumur\u001b[0m \u001b[0;34m=\u001b[0m \u001b[0;34m'21'\u001b[0m\u001b[0;34m\u001b[0m\u001b[0;34m\u001b[0m\u001b[0m\n\u001b[0;32m----> 3\u001b[0;31m \u001b[0mumur\u001b[0m \u001b[0;34m=\u001b[0m \u001b[0mumur\u001b[0m \u001b[0;34m+\u001b[0m \u001b[0;36m1\u001b[0m\u001b[0;34m\u001b[0m\u001b[0;34m\u001b[0m\u001b[0m\n\u001b[0m\u001b[1;32m      4\u001b[0m \u001b[0mprint\u001b[0m\u001b[0;34m(\u001b[0m\u001b[0mumur\u001b[0m\u001b[0;34m)\u001b[0m\u001b[0;34m\u001b[0m\u001b[0;34m\u001b[0m\u001b[0m\n",
            "\u001b[0;31mTypeError\u001b[0m: can only concatenate str (not \"int\") to str"
          ]
        }
      ]
    },
    {
      "cell_type": "code",
      "metadata": {
        "colab": {
          "base_uri": "https://localhost:8080/"
        },
        "id": "dIx8saW1E2sT",
        "outputId": "0ca34117-4cfd-4290-9cf2-c5e4738ea194"
      },
      "source": [
        "# sudah dikonversi\n",
        "umur = '21'\n",
        "umur = int(umur) + 1\n",
        "print(umur)"
      ],
      "execution_count": null,
      "outputs": [
        {
          "output_type": "stream",
          "text": [
            "22\n"
          ],
          "name": "stdout"
        }
      ]
    },
    {
      "cell_type": "markdown",
      "metadata": {
        "id": "cVnsEo3_FlFV"
      },
      "source": [
        "## Control Flow\n",
        "Seringkali dalam pemrograman, alur program harus dikendalikan. Untuk mengendalikan alur tersebut digunakan `if`, `if-else`, `if-elif-else`. Pada blok `if` dan `elif` harus diberi ekspresi kondisional. Ekspresi kondisional tersebut hanya dapat bernilai `True` atau `False` (boolean). Pada contoh kode di bawah, ekspresi kondisionalnya adalah `angka == 1` untuk blok `if` dan `angka == 10` untuk blok `elif`. Ingat beri titik dua (:) setelah ekspresi kondisional."
      ]
    },
    {
      "cell_type": "code",
      "metadata": {
        "colab": {
          "base_uri": "https://localhost:8080/"
        },
        "id": "MaRiYW7_HwrX",
        "outputId": "f3b045db-23da-49b3-d9f9-472aa7ccbb25"
      },
      "source": [
        "angka=11\n",
        "if angka == 1:\n",
        "  print('satu')\n",
        "elif angka == 10:\n",
        "  print('sepuluh')\n",
        "else:\n",
        "  print('bukan satu dan bukan sepuluh')"
      ],
      "execution_count": null,
      "outputs": [
        {
          "output_type": "stream",
          "text": [
            "bukan satu dan bukan sepuluh\n"
          ],
          "name": "stdout"
        }
      ]
    },
    {
      "cell_type": "markdown",
      "metadata": {
        "id": "gTMavBwqKqus"
      },
      "source": [
        "## Indentasi\n",
        "Untuk menandakan bahwa suatu statement berada dalam suatu blok digunakan indentasi (1 tab atau 4 spasi)"
      ]
    },
    {
      "cell_type": "code",
      "metadata": {
        "colab": {
          "base_uri": "https://localhost:8080/"
        },
        "id": "W2lpi9r0M1Ki",
        "outputId": "5eabaad1-b6cc-4c9d-ed33-f4a28e1834e8"
      },
      "source": [
        "ipk = 3\n",
        "if ipk > 2:\n",
        "  print('Bagus!')\n",
        "  print('Ayo ditingkatkan')"
      ],
      "execution_count": null,
      "outputs": [
        {
          "output_type": "stream",
          "text": [
            "Bagus!\n",
            "Ayo ditingkatkan\n"
          ],
          "name": "stdout"
        }
      ]
    },
    {
      "cell_type": "code",
      "metadata": {
        "colab": {
          "base_uri": "https://localhost:8080/"
        },
        "id": "5AsIkOF2NHK8",
        "outputId": "967bf3c1-95c9-48ba-b394-634b76791ebe"
      },
      "source": [
        "ipk = 2\n",
        "if ipk > 2:\n",
        "  print('Bagus!')\n",
        "# tidak diberikan indentasi\n",
        "print('Ayo ditingkatkan')"
      ],
      "execution_count": null,
      "outputs": [
        {
          "output_type": "stream",
          "text": [
            "Ayo ditingkatkan\n"
          ],
          "name": "stdout"
        }
      ]
    },
    {
      "cell_type": "markdown",
      "metadata": {
        "id": "3QE59Er0NQ71"
      },
      "source": [
        "## Boolean\n",
        "Boolean adalah tipe data yang hanya memiliki 2 kemungkinan nilai, yaitu `True` atau `False` (huruf pertama harus kapital). Terdapat operasi yang dapat digunakan untuk data bertipe boolean, yaitu:\n",
        "*   `and`\n",
        "*   `or`\n",
        "*   `not`\n",
        "\n"
      ]
    },
    {
      "cell_type": "code",
      "metadata": {
        "colab": {
          "base_uri": "https://localhost:8080/"
        },
        "id": "rQHHjVsMioue",
        "outputId": "f6e3848b-2221-4dda-bc8f-7be68593cd5e"
      },
      "source": [
        "print(True and False)"
      ],
      "execution_count": null,
      "outputs": [
        {
          "output_type": "stream",
          "text": [
            "False\n"
          ],
          "name": "stdout"
        }
      ]
    },
    {
      "cell_type": "code",
      "metadata": {
        "colab": {
          "base_uri": "https://localhost:8080/"
        },
        "id": "AE0FmmHdiv7t",
        "outputId": "31c7f93a-aec5-475a-9d41-4711ce1e47d2"
      },
      "source": [
        "print(True or False)"
      ],
      "execution_count": null,
      "outputs": [
        {
          "output_type": "stream",
          "text": [
            "True\n"
          ],
          "name": "stdout"
        }
      ]
    },
    {
      "cell_type": "code",
      "metadata": {
        "colab": {
          "base_uri": "https://localhost:8080/"
        },
        "id": "QxoGhCejiyAN",
        "outputId": "e2f9facd-b1c7-47c1-c556-41c6a6bd0453"
      },
      "source": [
        "print(not False)"
      ],
      "execution_count": null,
      "outputs": [
        {
          "output_type": "stream",
          "text": [
            "True\n"
          ],
          "name": "stdout"
        }
      ]
    },
    {
      "cell_type": "markdown",
      "metadata": {
        "id": "OVS7tdg1i77X"
      },
      "source": [
        "## Input\n",
        "Untuk mendapatkan input dari pengguna dan menyimpan input tersebut ke suatu variabel gunakan fungsi `input()`. Saat menerima input, dapat ditampilkan suatu string `str` dengan menambah `str` ke fungsi input menjadi `input(str)`. Fungsi `input()` hanya menerima nilai bertipe string. Maka dari itu, jika ingin menggunakan input untuk perhitungan, nilai input harus dikonversi ke integer terlebih dahulu."
      ]
    },
    {
      "cell_type": "code",
      "metadata": {
        "colab": {
          "base_uri": "https://localhost:8080/"
        },
        "id": "Av-GEoM6kEov",
        "outputId": "cb25b49c-52a6-4a04-fb59-31e4f9f05099"
      },
      "source": [
        "# input tanpa prompt\n",
        "x = input()\n",
        "print(x)"
      ],
      "execution_count": null,
      "outputs": [
        {
          "output_type": "stream",
          "text": [
            "10\n",
            "10\n"
          ],
          "name": "stdout"
        }
      ]
    },
    {
      "cell_type": "code",
      "metadata": {
        "colab": {
          "base_uri": "https://localhost:8080/"
        },
        "id": "RjoBOajgjmOa",
        "outputId": "128a3c3e-e88b-4f42-965f-91dc66f3a3f2"
      },
      "source": [
        "# input dengan prompt\n",
        "jumlah_mangga = input('Masukkan jumlah mangga yang ingin dibeli!')\n",
        "print(str(jumlah_mangga) + ' ' + 'buah mangga ingin dibeli')"
      ],
      "execution_count": null,
      "outputs": [
        {
          "output_type": "stream",
          "text": [
            "Masukkan jumlah mangga yang ingin dibeli!10\n",
            "10 buah mangga ingin dibeli\n"
          ],
          "name": "stdout"
        }
      ]
    },
    {
      "cell_type": "code",
      "metadata": {
        "colab": {
          "base_uri": "https://localhost:8080/"
        },
        "id": "pe5WxGGXknpq",
        "outputId": "dd561aea-ca71-4c22-d42c-07f64f1c588b"
      },
      "source": [
        "# menerima input string dan simpan ke a dan b\n",
        "a = input()\n",
        "b = input()\n",
        "\n",
        "# konversi input a dan b ke integer\n",
        "a = int(a)\n",
        "b = int(b)\n",
        "\n",
        "# lakukan operasi matematika pada a dan b\n",
        "hasil = a + b\n",
        "\n",
        "# cetak hasil\n",
        "print(hasil)\n"
      ],
      "execution_count": null,
      "outputs": [
        {
          "output_type": "stream",
          "text": [
            "1\n",
            "2\n",
            "3\n"
          ],
          "name": "stdout"
        }
      ]
    },
    {
      "cell_type": "code",
      "metadata": {
        "id": "kqWgE74Slknk"
      },
      "source": [
        "# Apakah keluaran dari program ini?\n",
        "\n",
        "a = input()\n",
        "b = input()\n",
        "\n",
        "hasil = a + b\n",
        "\n",
        "print(hasil)\n"
      ],
      "execution_count": null,
      "outputs": []
    },
    {
      "cell_type": "markdown",
      "metadata": {
        "id": "7SXD0Vuklw3z"
      },
      "source": [
        "## List\n",
        "List adalah kumpulan elemen. Suatu list dapat memiliki elemen dengan tipe yang berbeda, seperti integer dan string dalam satu list. Setiap elemen dalam list memiliki nomor indeks yang dimulai dari 0. Untuk mendapatkan nilai elemen pada indeks ke `i` dalam list `list` gunakan `list[i]`."
      ]
    },
    {
      "cell_type": "code",
      "metadata": {
        "colab": {
          "base_uri": "https://localhost:8080/"
        },
        "id": "6p1tc_Aem8kI",
        "outputId": "e1f666b2-a756-405c-c8a6-dda391f9d1cc"
      },
      "source": [
        "# assign list ke variabel friends\n",
        "friends = ['Angel','Betty','Caroline',1010]\n",
        "\n",
        "# cetak semua elemen dalam list\n",
        "print(friends)\n",
        "\n",
        "# cetak elemen pada indeks 2 di list\n",
        "print(friends[2])"
      ],
      "execution_count": null,
      "outputs": [
        {
          "output_type": "stream",
          "text": [
            "['Angel', 'Betty', 'Caroline', 1010]\n",
            "Caroline\n"
          ],
          "name": "stdout"
        }
      ]
    },
    {
      "cell_type": "markdown",
      "metadata": {
        "id": "fPgO8avK71uK"
      },
      "source": [
        "Untuk mengubah nilai elemen dalam list, gunakan operator `=`"
      ]
    },
    {
      "cell_type": "code",
      "metadata": {
        "colab": {
          "base_uri": "https://localhost:8080/"
        },
        "id": "wRuOw4OU7-tb",
        "outputId": "0dea0912-e029-4675-e81e-6f36e939f087"
      },
      "source": [
        "scores = [75,80,90]\n",
        "# ubah elemen list pada indeks ke-0\n",
        "scores[0] = 100\n",
        "print(scores)"
      ],
      "execution_count": null,
      "outputs": [
        {
          "output_type": "stream",
          "text": [
            "[100, 80, 90]\n"
          ],
          "name": "stdout"
        }
      ]
    },
    {
      "cell_type": "markdown",
      "metadata": {
        "id": "63pia_Q1nloL"
      },
      "source": [
        "Untuk menambah elemen ke akhir list, gunakan fungsi list `append(nilai_elemen_baru)`"
      ]
    },
    {
      "cell_type": "code",
      "metadata": {
        "colab": {
          "base_uri": "https://localhost:8080/"
        },
        "id": "iF1zzKspnraC",
        "outputId": "adb173c0-a90d-4ab9-8b3b-0353b73bbb73"
      },
      "source": [
        "numbers = [1,2]\n",
        "# tambahkan elemen ke belakang list\n",
        "numbers.append(3)\n",
        "\n",
        "print(numbers)\n"
      ],
      "execution_count": null,
      "outputs": [
        {
          "output_type": "stream",
          "text": [
            "[1, 2, 3]\n"
          ],
          "name": "stdout"
        }
      ]
    },
    {
      "cell_type": "markdown",
      "metadata": {
        "id": "2NEX6Ku48bjv"
      },
      "source": [
        "## Perulangan For\n",
        "Salah satu fungsi dari perulangan for adalah untuk menjelajahi setiap elemen dalam list. Penjelajahan tersebut akan dimulai dari indeks 0 sampai indeks akhir list. Pada contoh di bawah, untuk setiap elemen dalam list `names`, nilai elemen akan disimpan ke variabel sementara yaitu variabel `name` di setiap iterasi."
      ]
    },
    {
      "cell_type": "code",
      "metadata": {
        "colab": {
          "base_uri": "https://localhost:8080/"
        },
        "id": "Wlzlr3VY8e5I",
        "outputId": "ce1a6fc2-562d-44f1-f331-61b61b781f39"
      },
      "source": [
        "names = ['Andy','Bob','Charlie']\n",
        "\n",
        "# untuk setiap 'name' dalam list 'names', cetak 'This is [name]'\n",
        "for name in names:\n",
        "  print('This is ' + name)"
      ],
      "execution_count": null,
      "outputs": [
        {
          "output_type": "stream",
          "text": [
            "This is Andy\n",
            "This is Bob\n",
            "This is Charlie\n"
          ],
          "name": "stdout"
        }
      ]
    },
    {
      "cell_type": "markdown",
      "metadata": {
        "id": "mXE9CFSuNhPJ"
      },
      "source": [
        "Perulangan for juga dapat dikombinasikan dengan fungsi `range()`. Fungsi range memiliki 3 parameter `range(start, stop, step) `. Parameter `start` adalah bilangan bulat yang menyatakan posisi mulai yang memiliki nilai default 0 dan bersifat opsional. Parameter `stop` adalah bilangan bulat yang menyatakan posisi berhenti. Parameter `step` adalah bilangan bulat yang menyatakan seberapa banyak yang ingin ditambahkan."
      ]
    },
    {
      "cell_type": "code",
      "metadata": {
        "colab": {
          "base_uri": "https://localhost:8080/"
        },
        "id": "Rt5xxvcYO1b9",
        "outputId": "1dad4400-5bb3-438f-fb9e-224c687cbf21"
      },
      "source": [
        "# mencetak angka dalam range [0,10) (10 tidak dicetak)\n",
        "for i in range(10):\n",
        "  print(i)"
      ],
      "execution_count": null,
      "outputs": [
        {
          "output_type": "stream",
          "text": [
            "0\n",
            "1\n",
            "2\n",
            "3\n",
            "4\n",
            "5\n",
            "6\n",
            "7\n",
            "8\n",
            "9\n"
          ],
          "name": "stdout"
        }
      ]
    },
    {
      "cell_type": "code",
      "metadata": {
        "colab": {
          "base_uri": "https://localhost:8080/"
        },
        "id": "epYEdpcxPBnQ",
        "outputId": "d26d29e7-25ee-4b3a-b230-db24441fac6e"
      },
      "source": [
        "# mencetak angka dalam range [1,6)\n",
        "for i in range(1,6):\n",
        "  print(i)"
      ],
      "execution_count": null,
      "outputs": [
        {
          "output_type": "stream",
          "text": [
            "1\n",
            "2\n",
            "3\n",
            "4\n",
            "5\n"
          ],
          "name": "stdout"
        }
      ]
    },
    {
      "cell_type": "code",
      "metadata": {
        "colab": {
          "base_uri": "https://localhost:8080/"
        },
        "id": "i3dHYoDqPLP2",
        "outputId": "353be1e7-cb16-46d0-b7a9-b196b63f35b2"
      },
      "source": [
        "# mencetak angka mulai 10 sampai 1 dengan penambahan sebesar -1\n",
        "for i in range(10,0,-1):\n",
        "  print(i)"
      ],
      "execution_count": null,
      "outputs": [
        {
          "output_type": "stream",
          "text": [
            "10\n",
            "9\n",
            "8\n",
            "7\n",
            "6\n",
            "5\n",
            "4\n",
            "3\n",
            "2\n",
            "1\n"
          ],
          "name": "stdout"
        }
      ]
    },
    {
      "cell_type": "markdown",
      "metadata": {
        "id": "vlzLcNTm9Wjy"
      },
      "source": [
        "## Dictionary\n",
        "Dictionary adalah list yang indeksnya berupa key. Key tersebut dapat bertipe string. Setiap elemen dalam dictionary memiliki satu key dan satu value. Dictionary dapat memiliki urutan elemen yang berbeda dari urutan awal saat deklarasi. Untuk membuat dictionary, bungkus himpunan pasangan key dan value menggunakan kurung kurawal ({...}). Key dan value dipisah dengan karakter titik dua (:) dan elemen dipisah dengan karakter koma (,)."
      ]
    },
    {
      "cell_type": "code",
      "metadata": {
        "colab": {
          "base_uri": "https://localhost:8080/"
        },
        "id": "uZ41XrU59zEi",
        "outputId": "014a9185-f257-44ab-8256-b072c1a1c1ae"
      },
      "source": [
        "# dictionary yang memiliki nama buah sebagai key dan harga buah sebagai value\n",
        "fruits = {'mango':10,'apple':15,'durian':20}\n",
        "\n",
        "# dapatkan harga mangga\n",
        "print(fruits['mango'])"
      ],
      "execution_count": null,
      "outputs": [
        {
          "output_type": "stream",
          "text": [
            "10\n"
          ],
          "name": "stdout"
        }
      ]
    },
    {
      "cell_type": "markdown",
      "metadata": {
        "id": "fCddfEGDA6xk"
      },
      "source": [
        "Untuk mengubah nilai elemen dalam dictionary, gunakan operator `=`"
      ]
    },
    {
      "cell_type": "code",
      "metadata": {
        "colab": {
          "base_uri": "https://localhost:8080/"
        },
        "id": "V5JtOxBEA9Mf",
        "outputId": "719ea19f-c03e-459c-9f10-7cce516fcc26"
      },
      "source": [
        "fruits = {'mango':10,'apple':15,'durian':20}\n",
        "\n",
        "fruits['mango'] = 30\n",
        "\n",
        "print(fruits['mango'])"
      ],
      "execution_count": null,
      "outputs": [
        {
          "output_type": "stream",
          "text": [
            "30\n"
          ],
          "name": "stdout"
        }
      ]
    },
    {
      "cell_type": "markdown",
      "metadata": {
        "id": "yNpjRYXXBKTl"
      },
      "source": [
        "Untuk menambah elemen ke dictionary sama dengan mengubah elemen dalam dictionary, tetapi gunakan key baru yang belum ada dalam dictionary."
      ]
    },
    {
      "cell_type": "code",
      "metadata": {
        "colab": {
          "base_uri": "https://localhost:8080/"
        },
        "id": "B-PE4O_MBJwI",
        "outputId": "b44988c0-6dc3-4ea4-c5c1-ad4e2ba3adb9"
      },
      "source": [
        "fruits = {'mango':10,'apple':15,'durian':20}\n",
        "\n",
        "fruits['orange'] = 5\n",
        "\n",
        "print(fruits)"
      ],
      "execution_count": null,
      "outputs": [
        {
          "output_type": "stream",
          "text": [
            "{'mango': 10, 'apple': 15, 'durian': 20, 'orange': 5}\n"
          ],
          "name": "stdout"
        }
      ]
    },
    {
      "cell_type": "markdown",
      "metadata": {
        "id": "76tXLfMSBuMQ"
      },
      "source": [
        "Perulangan for dapat digunakan untuk menjelajahi dictionary. Dalam setiap iterasi, `key` dari setiap elemen akan disimpan sementara dalam variabel."
      ]
    },
    {
      "cell_type": "code",
      "metadata": {
        "colab": {
          "base_uri": "https://localhost:8080/"
        },
        "id": "nIhXWeRkB6-y",
        "outputId": "0a701f91-c76c-44ca-ac86-c35d5961b0a3"
      },
      "source": [
        "fruits = {'mango':10,'apple':15,'durian':20}\n",
        "\n",
        "for fruit in fruits:\n",
        "  print(fruit + ' ' + str(fruits[fruit]))"
      ],
      "execution_count": null,
      "outputs": [
        {
          "output_type": "stream",
          "text": [
            "mango 10\n",
            "apple 15\n",
            "durian 20\n"
          ],
          "name": "stdout"
        }
      ]
    },
    {
      "cell_type": "markdown",
      "metadata": {
        "id": "3EdOI92yDb5V"
      },
      "source": [
        "## Perulangan While\n",
        "Perulangan while berfungsi untuk mengulangi blok kode selama kondisi while terpenuhi."
      ]
    },
    {
      "cell_type": "code",
      "metadata": {
        "colab": {
          "base_uri": "https://localhost:8080/"
        },
        "id": "FZ4jZfKSDtR1",
        "outputId": "824fe128-8f2f-4d52-9c1d-98b758ce37c3"
      },
      "source": [
        "x = 0\n",
        "while x <= 10:\n",
        "  print(x)\n",
        "  x += 1"
      ],
      "execution_count": null,
      "outputs": [
        {
          "output_type": "stream",
          "text": [
            "0\n",
            "1\n",
            "2\n",
            "3\n",
            "4\n",
            "5\n",
            "6\n",
            "7\n",
            "8\n",
            "9\n",
            "10\n"
          ],
          "name": "stdout"
        }
      ]
    },
    {
      "cell_type": "markdown",
      "metadata": {
        "id": "Wjt60jOUEGCa"
      },
      "source": [
        "Hati-hati dalam menentukan kondisi while dan statement dalam blok kode while. Pastikan kondisi while akan bernilai False dalam suatu waktu eksekusi program. Jika tidak, maka akan terjadi infinite loop."
      ]
    },
    {
      "cell_type": "code",
      "metadata": {
        "id": "4Phl267SEFbA"
      },
      "source": [
        "# kasus infinite loop karena tidak memperbarui variabel x\n",
        "x = 0\n",
        "while x <= 10:\n",
        "  print(x)"
      ],
      "execution_count": null,
      "outputs": []
    },
    {
      "cell_type": "code",
      "metadata": {
        "id": "HwQ7CEvBEnKI"
      },
      "source": [
        "# kasus infinite loop karena statement memperbarui variabel x berada di luar blok while (indentasi salah)\n",
        "x = 0\n",
        "while x <= 10:\n",
        "  print(x)\n",
        "x += 1"
      ],
      "execution_count": null,
      "outputs": []
    },
    {
      "cell_type": "markdown",
      "metadata": {
        "id": "wxK0WRXnE2kl"
      },
      "source": [
        "## Break\n",
        "Break dapat digunakan untuk keluar dari suatu perulangan."
      ]
    },
    {
      "cell_type": "code",
      "metadata": {
        "colab": {
          "base_uri": "https://localhost:8080/"
        },
        "id": "X7P-82amE9aT",
        "outputId": "a98afd3a-67ab-4270-fcaa-5c25fe57c894"
      },
      "source": [
        "numbers = [1,2,3,4,5]\n",
        "for number in numbers:\n",
        "  print(number)\n",
        "  if number == 2:\n",
        "    break"
      ],
      "execution_count": null,
      "outputs": [
        {
          "output_type": "stream",
          "text": [
            "1\n",
            "2\n"
          ],
          "name": "stdout"
        }
      ]
    },
    {
      "cell_type": "markdown",
      "metadata": {
        "id": "bJhg3IW7FMde"
      },
      "source": [
        "## Continue\n",
        "Continue digunakan untuk melewati suatu iterasi."
      ]
    },
    {
      "cell_type": "code",
      "metadata": {
        "colab": {
          "base_uri": "https://localhost:8080/"
        },
        "id": "K0meUXuyFQjG",
        "outputId": "98089292-f66c-4cec-cadc-af3dc31b9ef8"
      },
      "source": [
        "numbers = [1,2,3,4,5]\n",
        "for number in numbers:\n",
        "  if number == 2:\n",
        "    continue\n",
        "  print(number)"
      ],
      "execution_count": null,
      "outputs": [
        {
          "output_type": "stream",
          "text": [
            "1\n",
            "3\n",
            "4\n",
            "5\n"
          ],
          "name": "stdout"
        }
      ]
    },
    {
      "cell_type": "markdown",
      "metadata": {
        "id": "3cMM9EMyF50Y"
      },
      "source": [
        "## Fungsi\n",
        "Fungsi adalah blok kode yang menjalankan suatu pekerjaan yang spesifik. Untuk mendefinisikan fungsi, gunakan format `def nama_fungsi()` dan beri indentasi bagi kode dalam fungsi."
      ]
    },
    {
      "cell_type": "code",
      "metadata": {
        "colab": {
          "base_uri": "https://localhost:8080/"
        },
        "id": "KVL0xGIKGh87",
        "outputId": "66c62b7a-d4cc-4b1a-f4ae-e9f1117213f1"
      },
      "source": [
        "# definisikan fungsi salam()\n",
        "def salam():\n",
        "  print('Halo')\n",
        "\n",
        "# panggil fungsi salam()\n",
        "salam()"
      ],
      "execution_count": null,
      "outputs": [
        {
          "output_type": "stream",
          "text": [
            "Halo\n"
          ],
          "name": "stdout"
        }
      ]
    },
    {
      "cell_type": "markdown",
      "metadata": {
        "id": "fWFdj5lIHgkU"
      },
      "source": [
        "Fungsi dapat menerima satu atau lebih argumen. Argumen adalah nilai yang diberi ke fungsi untuk diproses. Agar fungsi dapat menerima argumen, tuliskan parameter fungsi dalam `()` setelah nama fungsi. Parameter adalah variabel yang menyimpan argumen yang diberi ke fungsi. Parameter hanya dapat digunakan dalam blok fungsi."
      ]
    },
    {
      "cell_type": "code",
      "metadata": {
        "colab": {
          "base_uri": "https://localhost:8080/"
        },
        "id": "NnaNmt0YHGgs",
        "outputId": "3af5e9e5-19c0-461c-b0ed-c293d953162f"
      },
      "source": [
        "# definisikan fungsi salam()\n",
        "def salam(nama):\n",
        "  print('Halo ' + nama)\n",
        "\n",
        "# panggil fungsi salam()\n",
        "salam('Budi')"
      ],
      "execution_count": null,
      "outputs": [
        {
          "output_type": "stream",
          "text": [
            "Halo Budi\n"
          ],
          "name": "stdout"
        }
      ]
    },
    {
      "cell_type": "code",
      "metadata": {
        "colab": {
          "base_uri": "https://localhost:8080/"
        },
        "id": "Oacc9l-bIP1Z",
        "outputId": "a5393786-3598-4c54-d6be-85cb947b051d"
      },
      "source": [
        "# fungsi dengan parameter lebih dari satu\n",
        "def menyapa(nama1, nama2):\n",
        "  print(nama1 + ' menyapa ' + nama2)\n",
        "\n",
        "menyapa('Ani','Bob')"
      ],
      "execution_count": null,
      "outputs": [
        {
          "output_type": "stream",
          "text": [
            "Ani menyapa Bob\n"
          ],
          "name": "stdout"
        }
      ]
    },
    {
      "cell_type": "markdown",
      "metadata": {
        "id": "uwCpRXztIroG"
      },
      "source": [
        "Parameter fungsi dapat memiliki nilai default. Nilai default akan digunakan jika tidak ada argumen yang diberi ke parameter."
      ]
    },
    {
      "cell_type": "code",
      "metadata": {
        "colab": {
          "base_uri": "https://localhost:8080/"
        },
        "id": "FmjsE_DVI2rq",
        "outputId": "290e6ba8-c3f2-4422-8af7-ffc3607b8a10"
      },
      "source": [
        "# fungsi dengan parameter lebih dari satu\n",
        "def menyapa(nama1, nama2='Dyah'):\n",
        "  print(nama1 + ' menyapa ' + nama2)\n",
        "\n",
        "menyapa('Ani','Bob')\n",
        "menyapa('Bob')"
      ],
      "execution_count": null,
      "outputs": [
        {
          "output_type": "stream",
          "text": [
            "Ani menyapa Bob\n",
            "Bob menyapa Dyah\n"
          ],
          "name": "stdout"
        }
      ]
    },
    {
      "cell_type": "markdown",
      "metadata": {
        "id": "J5CUHCKdJHWA"
      },
      "source": [
        "Fungsi dapat memberikan nilai kembalian (return). Untuk mengembalikan suatu nilai dari fungsi, gunakan format `return nilai_return`."
      ]
    },
    {
      "cell_type": "code",
      "metadata": {
        "colab": {
          "base_uri": "https://localhost:8080/"
        },
        "id": "d5hrrnK_JSEo",
        "outputId": "54a39424-1ce3-4667-fb2c-4a9454861347"
      },
      "source": [
        "def mean(data):\n",
        "  sum = 0\n",
        "  for i in data:\n",
        "    sum += i\n",
        "  return sum / len(data)\n",
        "\n",
        "data = [1,2,3]\n",
        "print(mean(data))"
      ],
      "execution_count": null,
      "outputs": [
        {
          "output_type": "stream",
          "text": [
            "2.0\n"
          ],
          "name": "stdout"
        }
      ]
    },
    {
      "cell_type": "code",
      "metadata": {
        "colab": {
          "base_uri": "https://localhost:8080/"
        },
        "id": "Qi4RHlF3J_mi",
        "outputId": "ddc271fd-9693-48b1-e869-fc571cb33177"
      },
      "source": [
        "def bool(number):\n",
        "  if number == 0:\n",
        "    return False\n",
        "  else:\n",
        "    return True\n",
        "\n",
        "print(bool(0))\n",
        "print(bool(1))"
      ],
      "execution_count": null,
      "outputs": [
        {
          "output_type": "stream",
          "text": [
            "False\n",
            "True\n"
          ],
          "name": "stdout"
        }
      ]
    },
    {
      "cell_type": "code",
      "metadata": {
        "colab": {
          "base_uri": "https://localhost:8080/"
        },
        "id": "fIR7YQyEKTD7",
        "outputId": "d03c66f7-9c45-4b3f-f4ee-6b94da818f21"
      },
      "source": [
        "def login(name='Guest'):\n",
        "  if name == 'Guest':\n",
        "    return 'You are logged in as Guest'\n",
        "  return 'You are logged in as ' + name\n",
        "\n",
        "print(login())\n",
        "print(login('Karin'))"
      ],
      "execution_count": null,
      "outputs": [
        {
          "output_type": "stream",
          "text": [
            "You are logged in as Guest\n",
            "You are logged in as Karin\n"
          ],
          "name": "stdout"
        }
      ]
    },
    {
      "cell_type": "markdown",
      "metadata": {
        "id": "rAMXd2GLK1MI"
      },
      "source": [
        "## Import\n",
        "Import digunakan untuk mengimpor suatu modul ke dalam kode. Gunakan format `import nama_modul` untuk mengimpor modul."
      ]
    },
    {
      "cell_type": "code",
      "metadata": {
        "colab": {
          "base_uri": "https://localhost:8080/"
        },
        "id": "6aVcNYYrLI0F",
        "outputId": "ed3f3dda-0be3-4e75-f2a1-15624f0981d1"
      },
      "source": [
        "import math\n",
        "print(math.factorial(4))"
      ],
      "execution_count": null,
      "outputs": [
        {
          "output_type": "stream",
          "text": [
            "24\n"
          ],
          "name": "stdout"
        }
      ]
    },
    {
      "cell_type": "markdown",
      "metadata": {
        "id": "MXPY0KnrLuuc"
      },
      "source": [
        "## Fungsi Rekursif\n",
        "Untuk membuat fungsi rekursif, lakukan pemanggilan kepada diri fungsi di dalam blok fungsi."
      ]
    },
    {
      "cell_type": "code",
      "metadata": {
        "colab": {
          "base_uri": "https://localhost:8080/"
        },
        "id": "X6htHZSJMBdp",
        "outputId": "26b42067-0f1d-459f-c591-3a475f56485c"
      },
      "source": [
        "def factorial(n):\n",
        "  if n == 0 or n == 1:\n",
        "    return 1\n",
        "  return n * factorial(n - 1)\n",
        "\n",
        "print(factorial(4))"
      ],
      "execution_count": null,
      "outputs": [
        {
          "output_type": "stream",
          "text": [
            "24\n"
          ],
          "name": "stdout"
        }
      ]
    },
    {
      "cell_type": "markdown",
      "metadata": {
        "id": "yCK2WryvouZC"
      },
      "source": [
        "# Latihan\n",
        "Latihan ini bersifat opsional. Jika dikerjakan dan hasilnya benar, maka akan mendapat nilai tambah.\n",
        "https://www.hackerrank.com/lbekcv2021"
      ]
    },
    {
      "cell_type": "markdown",
      "metadata": {
        "id": "j_N98rmM0MI9"
      },
      "source": [
        "# Referensi\n",
        "\n",
        "\n",
        "1.   https://steelkiwi.com/blog/python-for-ai-and-machine-learning/\n",
        "2.   https://progate.com/\n",
        "3.   https://www.w3schools.com/python/gloss_python_variable_names.asp`\n",
        "4.   https://www.programiz.com/python-programming/recursion\n",
        "5.   https://www.w3schools.com/python/python_for_loops.asp\n",
        "6.   https://www.w3schools.com/python/ref_func_range.asp\n",
        "\n",
        "\n",
        "\n"
      ]
    }
  ]
}